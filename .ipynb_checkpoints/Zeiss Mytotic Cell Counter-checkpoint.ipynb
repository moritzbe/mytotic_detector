{
 "cells": [
  {
   "cell_type": "code",
   "execution_count": 1,
   "metadata": {},
   "outputs": [],
   "source": [
    "import sys\n",
    "import numpy as np\n",
    "sys.path.append('/Users/Moritz/Desktop/zeiss')\n",
    "%matplotlib inline  \n",
    "import matplotlib.pyplot as plt\n",
    "seed = 17\n",
    "import pandas as pd\n",
    "from numpy import genfromtxt"
   ]
  },
  {
   "cell_type": "code",
   "execution_count": null,
   "metadata": {},
   "outputs": [],
   "source": [
    "from scipy import misc\n",
    "import glob\n",
    "# /Users/Moritz/Desktop/zeiss/\n",
    "for image_path in glob.glob(\"/Users/Moritz/Desktop/zeiss/data/A00_v2/*.png\"):\n",
    "    image = misc.imread(image_path)\n",
    "    print(image.shape)\n",
    "    print(image.dtype)\n",
    "    "
   ]
  },
  {
   "cell_type": "code",
   "execution_count": null,
   "metadata": {},
   "outputs": [],
   "source": [
    "plt.imshow(image)\n",
    "plt.show()"
   ]
  },
  {
   "cell_type": "code",
   "execution_count": null,
   "metadata": {},
   "outputs": [],
   "source": [
    "path_a = \"/Users/Moritz/Desktop/zeiss/data/H00_v2/H00_01.jpg\"\n",
    "path_b = \"/Users/Moritz/Desktop/zeiss/data/H00_v2/H00_01.png\"\n",
    "a = misc.imread(path_a)\n",
    "b = misc.imread(path_b)\n",
    "#mask = (a + b)/2\n",
    "#plt.imshow(b[:100,:100,:])\n",
    "#plt.show()\n",
    "#plt.imshow(mask[:100,:100,1])\n",
    "#plt.show()\n",
    "#np.max(a)\n",
    "#np.min(a)"
   ]
  },
  {
   "cell_type": "code",
   "execution_count": null,
   "metadata": {},
   "outputs": [],
   "source": [
    "#my_data = genfromtxt('/Users/Moritz/Desktop/zeiss/data/A00_v2/A00_01.csv', delimiter=',')\n",
    "#df=pd.read_csv('/Users/Moritz/Desktop/zeiss/data/A00_v2/A00_01.csv', delim_whitespace= True,header=None)\n",
    "fname = '/Users/Moritz/Desktop/zeiss/data/H00_v2/H00_01.csv'\n",
    "all_annotation_txt = np.genfromtxt(fname, dtype = 'str', comments='#', delimiter=\"',\\n'\", skip_header=0, skip_footer=0, converters=None, missing_values=None, filling_values=None, usecols=None, names=None, excludelist=None, deletechars=None, replace_space='_', autostrip=False, case_sensitive=True, defaultfmt='f%i', unpack=None, usemask=False, loose=True, invalid_raise=True, max_rows=None, encoding='bytes')\n",
    "single_annotation = all_annotation_txt[1]\n",
    "single_annotation_array = np.fromstring(single_annotation, dtype=int, sep=\",\")\n",
    "annotation = np.reshape(single_annotation_array, (-1,2))\n",
    "mask = np.zeros_like(a[:,:,0])\n",
    "mask[annotation[:,1],annotation[:,0]]=255\n",
    "plt.imshow(mask[0:250,1250:2000])\n",
    "plt.show()\n",
    "plt.imshow(a[0:250,1250:2000])\n",
    "plt.show()\n",
    "plt.imshow(b[0:250,1250:2000])\n",
    "plt.show()\n",
    "a[10,10,:]"
   ]
  },
  {
   "cell_type": "code",
   "execution_count": null,
   "metadata": {},
   "outputs": [],
   "source": []
  }
 ],
 "metadata": {
  "kernelspec": {
   "display_name": "Python 3",
   "language": "python",
   "name": "python3"
  },
  "language_info": {
   "codemirror_mode": {
    "name": "ipython",
    "version": 3
   },
   "file_extension": ".py",
   "mimetype": "text/x-python",
   "name": "python",
   "nbconvert_exporter": "python",
   "pygments_lexer": "ipython3",
   "version": "3.6.4"
  }
 },
 "nbformat": 4,
 "nbformat_minor": 2
}
